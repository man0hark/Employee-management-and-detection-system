{
 "cells": [
  {
   "cell_type": "code",
   "execution_count": 1,
   "metadata": {},
   "outputs": [
    {
     "name": "stderr",
     "output_type": "stream",
     "text": [
      "Using TensorFlow backend.\n"
     ]
    }
   ],
   "source": [
    "# Face Recognition\n",
    "\n",
    "# Importing the libraries\n",
    "from PIL import Image\n",
    "from keras.applications.vgg16 import preprocess_input\n",
    "import base64\n",
    "from io import BytesIO\n",
    "import json\n",
    "import random\n",
    "import cv2\n",
    "from keras.models import load_model\n",
    "from tensorflow.keras.models import load_model\n",
    "import numpy as np\n",
    "import pickle\n",
    "\n",
    "from sklearn import svm\n"
   ]
  },
  {
   "cell_type": "code",
   "execution_count": 2,
   "metadata": {},
   "outputs": [],
   "source": [
    "\n",
    "# Loading the cascades\n",
    "face_cascade = cv2.CascadeClassifier('haarcascade_frontalface_default.xml')"
   ]
  },
  {
   "cell_type": "code",
   "execution_count": 3,
   "metadata": {},
   "outputs": [],
   "source": [
    "\n",
    "from keras.preprocessing import image\n",
    "model = load_model('facefeatures_new_model.h5')"
   ]
  },
  {
   "cell_type": "code",
   "execution_count": 4,
   "metadata": {},
   "outputs": [
    {
     "name": "stderr",
     "output_type": "stream",
     "text": [
      "<>:8: SyntaxWarning: \"is\" with a literal. Did you mean \"==\"?\n",
      "<>:8: SyntaxWarning: \"is\" with a literal. Did you mean \"==\"?\n",
      "<ipython-input-4-39f7dd144c4e>:8: SyntaxWarning: \"is\" with a literal. Did you mean \"==\"?\n",
      "  if faces is ():\n"
     ]
    }
   ],
   "source": [
    "def face_extractor(img):\n",
    "    # Function detects faces and returns the cropped face\n",
    "    # If no face detected, it returns the input image\n",
    "    \n",
    "    #gray = cv2.cvtColor(img,cv2.COLOR_BGR2GRAY)\n",
    "    faces = face_cascade.detectMultiScale(img, 1.3, 5)\n",
    "    \n",
    "    if faces is ():\n",
    "        return None\n",
    "    \n",
    "    # Crop all faces found\n",
    "    for (x,y,w,h) in faces:\n",
    "        cv2.rectangle(img,(x,y),(x+w,y+h),(0,255,255),2)\n",
    "        cropped_face = img[y:y+h, x:x+w]\n",
    "\n",
    "    return cropped_face\n",
    "\n"
   ]
  },
  {
   "cell_type": "code",
   "execution_count": 5,
   "metadata": {},
   "outputs": [
    {
     "name": "stdout",
     "output_type": "stream",
     "text": [
      "0\n",
      "[[0.0000000e+00 1.0000000e+00 1.5840553e-29 0.0000000e+00]]\n",
      "0\n",
      "[[0.0000000e+00 1.0000000e+00 2.9430296e-33 0.0000000e+00]]\n",
      "0\n",
      "0\n",
      "0\n",
      "0\n",
      "0\n",
      "0\n",
      "0\n",
      "0\n",
      "0\n",
      "0\n",
      "0\n",
      "[[3.115901e-34 1.000000e+00 6.637815e-25 0.000000e+00]]\n",
      "0\n",
      "0\n",
      "0\n",
      "0\n",
      "0\n",
      "0\n",
      "0\n",
      "0\n",
      "0\n",
      "0\n",
      "0\n",
      "0\n",
      "[[0.0000000e+00 1.0000000e+00 9.9891415e-37 0.0000000e+00]]\n",
      "0\n",
      "0\n",
      "0\n",
      "0\n",
      "0\n",
      "0\n",
      "0\n",
      "0\n",
      "0\n",
      "0\n",
      "0\n",
      "0\n",
      "0\n",
      "[[0. 1. 0. 0.]]\n",
      "[[0. 1. 0. 0.]]\n",
      "0\n",
      "0\n",
      "0\n",
      "0\n",
      "[[0. 1. 0. 0.]]\n",
      "0\n",
      "0\n",
      "0\n",
      "0\n",
      "0\n",
      "0\n",
      "0\n",
      "0\n",
      "0\n",
      "0\n",
      "0\n",
      "0\n",
      "0\n",
      "0\n",
      "0\n",
      "0\n",
      "0\n",
      "[[3.4921017e-37 1.0000000e+00 4.1099776e-38 0.0000000e+00]]\n",
      "[[0. 1. 0. 0.]]\n",
      "[[0. 1. 0. 0.]]\n",
      "[[2.1084114e-35 1.0000000e+00 1.6003672e-24 0.0000000e+00]]\n",
      "[[5.3401098e-32 1.0000000e+00 1.3163602e-25 0.0000000e+00]]\n",
      "[[0. 1. 0. 0.]]\n",
      "[[2.0184693e-37 1.0000000e+00 0.0000000e+00 0.0000000e+00]]\n",
      "[[0. 1. 0. 0.]]\n",
      "[[0. 1. 0. 0.]]\n",
      "[[0. 1. 0. 0.]]\n",
      "[[0. 1. 0. 0.]]\n",
      "[[0. 1. 0. 0.]]\n",
      "[[0.000000e+00 1.000000e+00 1.186628e-38 0.000000e+00]]\n",
      "[[0. 1. 0. 0.]]\n",
      "[[0. 1. 0. 0.]]\n",
      "[[0. 1. 0. 0.]]\n",
      "[[0.000000e+00 1.000000e+00 7.609913e-33 0.000000e+00]]\n",
      "[[0. 1. 0. 0.]]\n",
      "[[0. 1. 0. 0.]]\n",
      "0\n",
      "[[0.0000000e+00 1.0000000e+00 1.6199387e-36 0.0000000e+00]]\n",
      "[[0.0000000e+00 1.0000000e+00 4.1276723e-29 0.0000000e+00]]\n",
      "[[2.3486935e-37 1.0000000e+00 8.6647458e-32 0.0000000e+00]]\n",
      "[[0. 1. 0. 0.]]\n",
      "[[0. 1. 0. 0.]]\n",
      "[[0. 1. 0. 0.]]\n",
      "[[0.00000e+00 1.00000e+00 2.83005e-38 0.00000e+00]]\n",
      "[[0.000000e+00 1.000000e+00 2.310711e-37 0.000000e+00]]\n",
      "[[4.314182e-35 1.000000e+00 0.000000e+00 0.000000e+00]]\n",
      "[[8.627467e-34 1.000000e+00 0.000000e+00 0.000000e+00]]\n",
      "[[4.6345346e-36 1.0000000e+00 0.0000000e+00 0.0000000e+00]]\n",
      "[[0. 1. 0. 0.]]\n",
      "[[0.0000000e+00 1.0000000e+00 1.2021434e-35 0.0000000e+00]]\n",
      "[[0.0000000e+00 1.0000000e+00 2.7374175e-38 0.0000000e+00]]\n",
      "[[2.0342226e-37 1.0000000e+00 0.0000000e+00 0.0000000e+00]]\n",
      "[[1.189207e-37 1.000000e+00 0.000000e+00 0.000000e+00]]\n",
      "[[0. 1. 0. 0.]]\n",
      "[[0. 1. 0. 0.]]\n",
      "[[0. 1. 0. 0.]]\n",
      "[[0. 1. 0. 0.]]\n",
      "[[0. 1. 0. 0.]]\n",
      "[[0.0000000e+00 1.0000000e+00 1.3300354e-38 0.0000000e+00]]\n",
      "[[0. 1. 0. 0.]]\n",
      "[[0. 1. 0. 0.]]\n",
      "[[0. 1. 0. 0.]]\n",
      "[[0. 1. 0. 0.]]\n",
      "[[5.7443585e-38 1.0000000e+00 0.0000000e+00 0.0000000e+00]]\n",
      "[[0.0000000e+00 1.0000000e+00 1.4195144e-38 0.0000000e+00]]\n"
     ]
    }
   ],
   "source": [
    "# Doing some Face Recognition with the webcam\n",
    "video_capture = cv2.VideoCapture(0)\n",
    "count=0\n",
    "while True:\n",
    "    _, frame = video_capture.read()\n",
    "    #canvas = detect(gray, frame)\n",
    "    #image, face =face_detector(frame)\n",
    "    \n",
    "    face=face_extractor(frame)\n",
    "    if type(face) is np.ndarray:\n",
    "        face = cv2.resize(face, (224, 224))\n",
    "        im = Image.fromarray(face, 'RGB')\n",
    "           #Resizing into 128x128 because we trained the model with this image size.\n",
    "        img_array = np.array(im)\n",
    "                    #Our keras model used a 4D tensor, (images x height x width x channel)\n",
    "                    #So changing dimension 128x128x3 into 1x128x128x3 \n",
    "        img_array = np.expand_dims(img_array, axis=0)\n",
    "        pred = model.predict(img_array)\n",
    "        print(pred)\n",
    "                     \n",
    "        name=\"None matching\"\n",
    "        \n",
    "        if(pred[0][0]>0.5):\n",
    "            name='rohith'\n",
    "        elif(pred[0][1]>0.5):\n",
    "            name='manohar'\n",
    "        elif(pred[0][2]>0.5):\n",
    "            name='madhan'\n",
    "        else:\n",
    "            name='unknown'\n",
    "            count=count+1\n",
    "        cv2.putText(frame,name, (50, 50), cv2.FONT_HERSHEY_COMPLEX, 1, (0,255,0), 2)\n",
    "    else:\n",
    "        cv2.putText(frame,\"No face found\", (50, 50), cv2.FONT_HERSHEY_COMPLEX, 1, (0,255,0), 2)\n",
    "        print(count)\n",
    "        #takepi(count)\n",
    "    cv2.imshow('Video', frame)\n",
    "    if cv2.waitKey(1) & 0xFF == ord('q'):\n",
    "        break\n",
    "video_capture.release()\n",
    "cv2.destroyAllWindows()"
   ]
  },
  {
   "cell_type": "code",
   "execution_count": 36,
   "metadata": {},
   "outputs": [
    {
     "name": "stdout",
     "output_type": "stream",
     "text": [
      "enter2\n"
     ]
    }
   ],
   "source": []
  },
  {
   "cell_type": "code",
   "execution_count": null,
   "metadata": {},
   "outputs": [],
   "source": []
  }
 ],
 "metadata": {
  "kernelspec": {
   "display_name": "Python 3",
   "language": "python",
   "name": "python3"
  },
  "language_info": {
   "codemirror_mode": {
    "name": "ipython",
    "version": 3
   },
   "file_extension": ".py",
   "mimetype": "text/x-python",
   "name": "python",
   "nbconvert_exporter": "python",
   "pygments_lexer": "ipython3",
   "version": "3.8.3"
  }
 },
 "nbformat": 4,
 "nbformat_minor": 4
}
